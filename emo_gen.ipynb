{
 "cells": [
  {
   "cell_type": "code",
   "execution_count": 6,
   "id": "132f5706",
   "metadata": {},
   "outputs": [],
   "source": [
    "import os \n",
    "import pandas as pd \n",
    "\n",
    "# set working directory one level above audio file location (optional - this is where files generated in this notebook are saved)\n",
    "working_dir = r'D:\\mobi24\\workshop_data'\n",
    "os.chdir(working_dir)\n",
    "\n",
    "# define location of audio files\n",
    "mydir = r'D:\\mobi24\\workshop_data\\260sounds_wav'\n",
    "mypath = os.path.join(mydir)\n",
    "\n",
    "# create dataframe from list of filenames\n",
    "filenames = [] \n",
    "for file in os.listdir(mypath): filenames.append(os.path.splitext(file)[0])\n",
    "mydata = pd.DataFrame(filenames)\n",
    "\n",
    "# add values to dataframe from pre-existing csv\n",
    "df = pd.read_csv(r'D:\\mobi24\\workshop_data\\ratings_data\\ratings_260_without-NA.csv')\n",
    "df1 = df[['file','emotion']]\n",
    "\n",
    "# create lists of manually annotated emotion values\n",
    "ordered_emo_list = ['pain','fear','anger','disgust','sadness','effort','amusement','pleasure','joy'] \n",
    "neg_emo = ordered_emo_list[0:5]\n",
    "pos_emo = ordered_emo_list[6:8] \n",
    "\n",
    "# assigns binary emotion value (positive or negative) to each row in dataframe\n",
    "emlist = df1['emotion']\n",
    "bev = []\n",
    "for item in emlist:\n",
    "    if item in neg_emo: \n",
    "        bev.append(0)\n",
    "    else: \n",
    "        bev.append(1)\n",
    "df1 = df1.assign(bin_emo_val = bev)\n",
    "\n",
    "# assigns ordered emotion value (0 through 8) to each row in dataframe\n",
    "oel = ordered_emo_list\n",
    "ev = []\n",
    "for emo1 in emlist: \n",
    "    for emo2 in oel: \n",
    "        if emo1 == emo2: \n",
    "            ev.append(oel.index(emo2))\n",
    "df1 = df1.assign(ord_emo_val = ev)\n",
    "\n",
    "# generates csv from dataframe and stores in working directory\n",
    "barebones = df1.to_csv('emo_annotations.csv')\n"
   ]
  }
 ],
 "metadata": {
  "kernelspec": {
   "display_name": "Python 3",
   "language": "python",
   "name": "python3"
  },
  "language_info": {
   "codemirror_mode": {
    "name": "ipython",
    "version": 3
   },
   "file_extension": ".py",
   "mimetype": "text/x-python",
   "name": "python",
   "nbconvert_exporter": "python",
   "pygments_lexer": "ipython3",
   "version": "3.8.5"
  }
 },
 "nbformat": 4,
 "nbformat_minor": 5
}
