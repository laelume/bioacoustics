{
 "cells": [
  {
   "cell_type": "code",
   "execution_count": 2,
   "id": "132f5706",
   "metadata": {},
   "outputs": [],
   "source": [
    "### preparing annotated datasets of emotional values\n",
    "\n",
    "#import necessary packages \n",
    "import os \n",
    "import pandas as pd \n",
    "\n",
    "# set working directory\n",
    "working_dir = r'D:\\mobi24\\workshop_data'\n",
    "os.chdir(working_dir)\n",
    "\n",
    "# generate dataframe from csv\n",
    "df0=pd.read_csv('emo_features_praat.csv') \n",
    "\n",
    "# create lists of manually annotated emotion values\n",
    "ordered_emo_list = ['pain','fear','anger','disgust','sadness','effort','amusement','pleasure','joy'] \n",
    "neg_emo = ordered_emo_list[0:5]\n",
    "pos_emo = ordered_emo_list[6:8] \n",
    "\n",
    "# assign new column as binary emotion value (positive or negative) to each row in dataframe\n",
    "emlist = df0['emotion']\n",
    "bev = []\n",
    "for item in emlist:\n",
    "    if item in neg_emo: \n",
    "        bev.append(0)\n",
    "    else: \n",
    "        bev.append(1)\n",
    "df0 = df0.assign(bin_emo_val = bev)\n",
    "\n",
    "# assign new column as ordered emotion value (0 through 8) to each row in dataframe\n",
    "oel = ordered_emo_list\n",
    "ev = []\n",
    "for emo1 in emlist: \n",
    "    for emo2 in oel: \n",
    "        if emo1 == emo2: \n",
    "            ev.append(oel.index(emo2))\n",
    "df0 = df0.assign(ord_emo_val = ev) \n",
    "\n",
    "#generate csv from dataframe\n",
    "barebones = df0.to_csv('emo_gen.csv')"
   ]
  }
 ],
 "metadata": {
  "kernelspec": {
   "display_name": "Python 3",
   "language": "python",
   "name": "python3"
  },
  "language_info": {
   "codemirror_mode": {
    "name": "ipython",
    "version": 3
   },
   "file_extension": ".py",
   "mimetype": "text/x-python",
   "name": "python",
   "nbconvert_exporter": "python",
   "pygments_lexer": "ipython3",
   "version": "3.8.5"
  }
 },
 "nbformat": 4,
 "nbformat_minor": 5
}
